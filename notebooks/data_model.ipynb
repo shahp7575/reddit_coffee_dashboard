{
 "cells": [
  {
   "cell_type": "markdown",
   "id": "c36f49ea-098b-400f-b518-761afb93c55c",
   "metadata": {},
   "source": [
    "## Setup"
   ]
  },
  {
   "cell_type": "code",
   "execution_count": 6,
   "id": "b302510a-13c9-49ad-80c5-e29608581f71",
   "metadata": {},
   "outputs": [],
   "source": [
    "import os\n",
    "import pandas as pd"
   ]
  },
  {
   "cell_type": "code",
   "execution_count": 7,
   "id": "8e493ae5-327b-413e-8134-7afd9a8526c9",
   "metadata": {},
   "outputs": [],
   "source": [
    "DATA_DIR = \"../proc_data\"\n",
    "DATA_FILE = os.path.join(DATA_DIR, \"processed.csv\")"
   ]
  },
  {
   "cell_type": "markdown",
   "id": "6c4a3337-fb60-42fa-97c3-fee6b12a169f",
   "metadata": {},
   "source": [
    "## Data Read"
   ]
  },
  {
   "cell_type": "code",
   "execution_count": 8,
   "id": "f1106371-7277-4b4b-9b7a-ae0897534209",
   "metadata": {},
   "outputs": [],
   "source": [
    "df = pd.read_csv(DATA_FILE)"
   ]
  },
  {
   "cell_type": "code",
   "execution_count": 9,
   "id": "de565793-a654-49b2-84b8-c2ab9b67e3c7",
   "metadata": {},
   "outputs": [
    {
     "data": {
      "text/plain": [
       "(170161, 11)"
      ]
     },
     "execution_count": 9,
     "metadata": {},
     "output_type": "execute_result"
    }
   ],
   "source": [
    "df.shape"
   ]
  },
  {
   "cell_type": "code",
   "execution_count": 10,
   "id": "25f53f64-a2de-426c-b5f3-ba2bfc5ff1e4",
   "metadata": {},
   "outputs": [
    {
     "data": {
      "text/html": [
       "<div>\n",
       "<style scoped>\n",
       "    .dataframe tbody tr th:only-of-type {\n",
       "        vertical-align: middle;\n",
       "    }\n",
       "\n",
       "    .dataframe tbody tr th {\n",
       "        vertical-align: top;\n",
       "    }\n",
       "\n",
       "    .dataframe thead th {\n",
       "        text-align: right;\n",
       "    }\n",
       "</style>\n",
       "<table border=\"1\" class=\"dataframe\">\n",
       "  <thead>\n",
       "    <tr style=\"text-align: right;\">\n",
       "      <th></th>\n",
       "      <th>index</th>\n",
       "      <th>id</th>\n",
       "      <th>url</th>\n",
       "      <th>title</th>\n",
       "      <th>text</th>\n",
       "      <th>score</th>\n",
       "      <th>created_utc</th>\n",
       "      <th>subreddit</th>\n",
       "      <th>num_comments</th>\n",
       "      <th>upvote_ratio</th>\n",
       "      <th>over_18</th>\n",
       "    </tr>\n",
       "  </thead>\n",
       "  <tbody>\n",
       "    <tr>\n",
       "      <th>0</th>\n",
       "      <td>189</td>\n",
       "      <td>1fxmtei</td>\n",
       "      <td>https://www.reddit.com/r/ucla/comments/1fxmtei...</td>\n",
       "      <td>Can I email back consulting clubs to ask for a...</td>\n",
       "      <td>My resume/application got rejected from a cons...</td>\n",
       "      <td>1</td>\n",
       "      <td>2024-10-06 18:10:40</td>\n",
       "      <td>ucla</td>\n",
       "      <td>0</td>\n",
       "      <td>1.00</td>\n",
       "      <td>False</td>\n",
       "    </tr>\n",
       "    <tr>\n",
       "      <th>1</th>\n",
       "      <td>190</td>\n",
       "      <td>1fxms88</td>\n",
       "      <td>https://i.redd.it/hvmfotrcf6td1.png</td>\n",
       "      <td>Got 100 days of free coffee! 🥲</td>\n",
       "      <td>A local Dunkin was giving away these away to t...</td>\n",
       "      <td>1</td>\n",
       "      <td>2024-10-06 18:09:19</td>\n",
       "      <td>DunkinDonuts</td>\n",
       "      <td>0</td>\n",
       "      <td>1.00</td>\n",
       "      <td>False</td>\n",
       "    </tr>\n",
       "    <tr>\n",
       "      <th>2</th>\n",
       "      <td>191</td>\n",
       "      <td>1fxmrv9</td>\n",
       "      <td>https://www.reddit.com/r/AffiliateCommunity/co...</td>\n",
       "      <td>30 percent commission! Easy sell</td>\n",
       "      <td>I’d love to invite you to join the AVY Coffee ...</td>\n",
       "      <td>1</td>\n",
       "      <td>2024-10-06 18:08:53</td>\n",
       "      <td>AffiliateCommunity</td>\n",
       "      <td>0</td>\n",
       "      <td>1.00</td>\n",
       "      <td>False</td>\n",
       "    </tr>\n",
       "    <tr>\n",
       "      <th>3</th>\n",
       "      <td>192</td>\n",
       "      <td>1fxmrnq</td>\n",
       "      <td>https://www.reddit.com/r/relationship_advice/c...</td>\n",
       "      <td>I (M28) confessed to my long time friend (F28)...</td>\n",
       "      <td>We’ve been friends for over 10 years. She brok...</td>\n",
       "      <td>1</td>\n",
       "      <td>2024-10-06 18:08:37</td>\n",
       "      <td>relationship_advice</td>\n",
       "      <td>1</td>\n",
       "      <td>1.00</td>\n",
       "      <td>False</td>\n",
       "    </tr>\n",
       "    <tr>\n",
       "      <th>4</th>\n",
       "      <td>193</td>\n",
       "      <td>1fxmr5d</td>\n",
       "      <td>https://www.reddit.com/r/CasualIreland/comment...</td>\n",
       "      <td>Is there a way to avoid having dinner with my ...</td>\n",
       "      <td>I don't like having dinner with my mam!! For s...</td>\n",
       "      <td>1</td>\n",
       "      <td>2024-10-06 18:08:00</td>\n",
       "      <td>CasualIreland</td>\n",
       "      <td>0</td>\n",
       "      <td>0.67</td>\n",
       "      <td>False</td>\n",
       "    </tr>\n",
       "  </tbody>\n",
       "</table>\n",
       "</div>"
      ],
      "text/plain": [
       "   index       id                                                url  \\\n",
       "0    189  1fxmtei  https://www.reddit.com/r/ucla/comments/1fxmtei...   \n",
       "1    190  1fxms88                https://i.redd.it/hvmfotrcf6td1.png   \n",
       "2    191  1fxmrv9  https://www.reddit.com/r/AffiliateCommunity/co...   \n",
       "3    192  1fxmrnq  https://www.reddit.com/r/relationship_advice/c...   \n",
       "4    193  1fxmr5d  https://www.reddit.com/r/CasualIreland/comment...   \n",
       "\n",
       "                                               title  \\\n",
       "0  Can I email back consulting clubs to ask for a...   \n",
       "1                     Got 100 days of free coffee! 🥲   \n",
       "2                   30 percent commission! Easy sell   \n",
       "3  I (M28) confessed to my long time friend (F28)...   \n",
       "4  Is there a way to avoid having dinner with my ...   \n",
       "\n",
       "                                                text  score  \\\n",
       "0  My resume/application got rejected from a cons...      1   \n",
       "1  A local Dunkin was giving away these away to t...      1   \n",
       "2  I’d love to invite you to join the AVY Coffee ...      1   \n",
       "3  We’ve been friends for over 10 years. She brok...      1   \n",
       "4  I don't like having dinner with my mam!! For s...      1   \n",
       "\n",
       "           created_utc            subreddit  num_comments  upvote_ratio  \\\n",
       "0  2024-10-06 18:10:40                 ucla             0          1.00   \n",
       "1  2024-10-06 18:09:19         DunkinDonuts             0          1.00   \n",
       "2  2024-10-06 18:08:53   AffiliateCommunity             0          1.00   \n",
       "3  2024-10-06 18:08:37  relationship_advice             1          1.00   \n",
       "4  2024-10-06 18:08:00        CasualIreland             0          0.67   \n",
       "\n",
       "   over_18  \n",
       "0    False  \n",
       "1    False  \n",
       "2    False  \n",
       "3    False  \n",
       "4    False  "
      ]
     },
     "execution_count": 10,
     "metadata": {},
     "output_type": "execute_result"
    }
   ],
   "source": [
    "df.head()"
   ]
  },
  {
   "cell_type": "code",
   "execution_count": null,
   "id": "bc77e43e-0b60-4856-a5a9-973c008881ac",
   "metadata": {},
   "outputs": [],
   "source": []
  },
  {
   "cell_type": "code",
   "execution_count": null,
   "id": "7f12ca00-0512-41b7-9477-62fedb7a09a5",
   "metadata": {},
   "outputs": [],
   "source": []
  },
  {
   "cell_type": "code",
   "execution_count": null,
   "id": "81746d66-8d1e-4de6-844b-99a7965ff9ce",
   "metadata": {},
   "outputs": [],
   "source": []
  },
  {
   "cell_type": "code",
   "execution_count": null,
   "id": "678aa2aa-0ca8-4909-b18e-c0c3f51ae98c",
   "metadata": {},
   "outputs": [],
   "source": []
  },
  {
   "cell_type": "code",
   "execution_count": null,
   "id": "a0b092ff-1028-417a-b2b8-e3acdfece83b",
   "metadata": {},
   "outputs": [],
   "source": []
  },
  {
   "cell_type": "code",
   "execution_count": null,
   "id": "dbae2566-dadb-4527-8da0-8eaddc1ce51a",
   "metadata": {},
   "outputs": [],
   "source": []
  },
  {
   "cell_type": "code",
   "execution_count": null,
   "id": "228c785d-9e0b-4a93-b25f-159478b0693e",
   "metadata": {},
   "outputs": [],
   "source": []
  },
  {
   "cell_type": "code",
   "execution_count": null,
   "id": "4ab15165-acde-4b2d-ad09-bface8fa528a",
   "metadata": {},
   "outputs": [],
   "source": []
  }
 ],
 "metadata": {
  "kernelspec": {
   "display_name": "Coffee Dashboard Kernel",
   "language": "python",
   "name": "coffee_dash"
  },
  "language_info": {
   "codemirror_mode": {
    "name": "ipython",
    "version": 3
   },
   "file_extension": ".py",
   "mimetype": "text/x-python",
   "name": "python",
   "nbconvert_exporter": "python",
   "pygments_lexer": "ipython3",
   "version": "3.12.7"
  }
 },
 "nbformat": 4,
 "nbformat_minor": 5
}
