{
 "cells": [
  {
   "cell_type": "markdown",
   "id": "667091fc-3932-430f-8472-a745c34107f7",
   "metadata": {},
   "source": [
    "## 1. Setup"
   ]
  },
  {
   "cell_type": "code",
   "execution_count": 8,
   "id": "68c27fbc-c231-4359-8174-02bd07904be6",
   "metadata": {},
   "outputs": [],
   "source": [
    "import os\n",
    "import glob\n",
    "import pandas as pd\n",
    "import kaggle"
   ]
  },
  {
   "cell_type": "markdown",
   "id": "0b1bc9c5-1bf7-4c93-9459-16923e13a0e9",
   "metadata": {},
   "source": [
    "## 2. Dataset"
   ]
  },
  {
   "cell_type": "code",
   "execution_count": 6,
   "id": "03c4627a-c364-4dac-bc9f-52fc64985e9b",
   "metadata": {},
   "outputs": [
    {
     "name": "stdout",
     "output_type": "stream",
     "text": [
      "Warning: Your Kaggle API key is readable by other users on this system! To fix this, you can run 'chmod 600 /Users/parthshah/.kaggle/kaggle.json'\n",
      "Dataset URL: https://www.kaggle.com/datasets/shahp7575/reddit-posts-with-keyword-coffee/versions/\n",
      "License(s): MIT\n",
      "Downloading reddit-posts-with-keyword-coffee.zip to ../data/kaggle_dataset\n"
     ]
    },
    {
     "name": "stderr",
     "output_type": "stream",
     "text": [
      "100%|██████████| 41.7M/41.7M [00:00<00:00, 48.0MB/s]\n"
     ]
    },
    {
     "name": "stdout",
     "output_type": "stream",
     "text": [
      "\n"
     ]
    },
    {
     "data": {
      "text/plain": [
       "0"
      ]
     },
     "execution_count": 6,
     "metadata": {},
     "output_type": "execute_result"
    }
   ],
   "source": [
    "download_path = \"../data/kaggle_dataset\"\n",
    "dataset_slug = \"shahp7575/reddit-posts-with-keyword-coffee/\"\n",
    "os.system(f'kaggle datasets download -d {dataset_slug} -p {download_path} --unzip')"
   ]
  },
  {
   "cell_type": "code",
   "execution_count": 15,
   "id": "1ddeca9b-0cda-49ec-8f3b-c20db91d379f",
   "metadata": {},
   "outputs": [
    {
     "data": {
      "text/plain": [
       "'../data/kaggle_dataset/reddit_coffee_scraper_till_2024-11-13 041137.csv'"
      ]
     },
     "execution_count": 15,
     "metadata": {},
     "output_type": "execute_result"
    }
   ],
   "source": [
    "kaggle_csv = glob.glob(download_path + \"/*.csv\")[0]\n",
    "kaggle_csv"
   ]
  },
  {
   "cell_type": "code",
   "execution_count": 16,
   "id": "d309c19c-debf-43cd-b522-e8dfaf40a4d6",
   "metadata": {},
   "outputs": [
    {
     "data": {
      "text/plain": [
       "(66826, 10)"
      ]
     },
     "execution_count": 16,
     "metadata": {},
     "output_type": "execute_result"
    }
   ],
   "source": [
    "df_kaggle = pd.read_csv(kaggle_csv)\n",
    "df_kaggle.shape"
   ]
  },
  {
   "cell_type": "markdown",
   "id": "07189135-9bc7-4294-9d15-05cdc9ef8744",
   "metadata": {},
   "source": [
    "## 3. Pre-processing"
   ]
  },
  {
   "cell_type": "code",
   "execution_count": null,
   "id": "4bd34fea-cbe1-47c6-8ea0-4c0d7a9b449a",
   "metadata": {},
   "outputs": [],
   "source": []
  },
  {
   "cell_type": "code",
   "execution_count": null,
   "id": "7e43712f-5571-42d8-8f27-dbc499203f9e",
   "metadata": {},
   "outputs": [],
   "source": []
  },
  {
   "cell_type": "code",
   "execution_count": null,
   "id": "103da9b3-62ae-4dbc-ae56-2f0b4398237c",
   "metadata": {},
   "outputs": [],
   "source": []
  },
  {
   "cell_type": "code",
   "execution_count": null,
   "id": "73699a38-fc29-4edd-ad35-8e25ad1a4cd2",
   "metadata": {},
   "outputs": [],
   "source": []
  },
  {
   "cell_type": "code",
   "execution_count": null,
   "id": "6dc588d1-10d2-47f5-905b-11bbb399bb37",
   "metadata": {},
   "outputs": [],
   "source": []
  },
  {
   "cell_type": "code",
   "execution_count": null,
   "id": "ee4a2020-748d-4bd7-8f1c-633eb3507c1b",
   "metadata": {},
   "outputs": [],
   "source": []
  },
  {
   "cell_type": "code",
   "execution_count": null,
   "id": "ff643905-7a7d-4fc1-bb60-3c50aca8b406",
   "metadata": {},
   "outputs": [],
   "source": []
  }
 ],
 "metadata": {
  "kernelspec": {
   "display_name": "Coffee Dashboard Kernel",
   "language": "python",
   "name": "coffee_dash"
  },
  "language_info": {
   "codemirror_mode": {
    "name": "ipython",
    "version": 3
   },
   "file_extension": ".py",
   "mimetype": "text/x-python",
   "name": "python",
   "nbconvert_exporter": "python",
   "pygments_lexer": "ipython3",
   "version": "3.12.7"
  }
 },
 "nbformat": 4,
 "nbformat_minor": 5
}
