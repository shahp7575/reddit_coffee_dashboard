{
 "cells": [
  {
   "cell_type": "markdown",
   "id": "667091fc-3932-430f-8472-a745c34107f7",
   "metadata": {},
   "source": [
    "## 1. Setup"
   ]
  },
  {
   "cell_type": "code",
   "execution_count": 2,
   "id": "68c27fbc-c231-4359-8174-02bd07904be6",
   "metadata": {},
   "outputs": [],
   "source": [
    "import os\n",
    "import glob\n",
    "import pandas as pd\n",
    "import kaggle"
   ]
  },
  {
   "cell_type": "markdown",
   "id": "0b1bc9c5-1bf7-4c93-9459-16923e13a0e9",
   "metadata": {},
   "source": [
    "## 2. Dataset"
   ]
  },
  {
   "cell_type": "code",
   "execution_count": 3,
   "id": "03c4627a-c364-4dac-bc9f-52fc64985e9b",
   "metadata": {},
   "outputs": [
    {
     "name": "stdout",
     "output_type": "stream",
     "text": [
      "Warning: Your Kaggle API key is readable by other users on this system! To fix this, you can run 'chmod 600 /Users/parthshah/.kaggle/kaggle.json'\n",
      "Dataset URL: https://www.kaggle.com/datasets/shahp7575/reddit-posts-with-keyword-coffee/versions/\n",
      "License(s): MIT\n",
      "Downloading reddit-posts-with-keyword-coffee.zip to ../data/kaggle_dataset\n"
     ]
    },
    {
     "name": "stderr",
     "output_type": "stream",
     "text": [
      "100%|██████████| 131M/131M [00:02<00:00, 47.4MB/s] \n"
     ]
    },
    {
     "name": "stdout",
     "output_type": "stream",
     "text": [
      "\n"
     ]
    },
    {
     "data": {
      "text/plain": [
       "0"
      ]
     },
     "execution_count": 3,
     "metadata": {},
     "output_type": "execute_result"
    }
   ],
   "source": [
    "download_path = \"../data/kaggle_dataset\"\n",
    "dataset_slug = \"shahp7575/reddit-posts-with-keyword-coffee/\"\n",
    "os.system(f'kaggle datasets download -d {dataset_slug} -p {download_path} --unzip')"
   ]
  },
  {
   "cell_type": "code",
   "execution_count": 4,
   "id": "1ddeca9b-0cda-49ec-8f3b-c20db91d379f",
   "metadata": {},
   "outputs": [
    {
     "data": {
      "text/plain": [
       "'../data/kaggle_dataset/reddit_coffee_scraper_till_2025-02-04 000241.csv'"
      ]
     },
     "execution_count": 4,
     "metadata": {},
     "output_type": "execute_result"
    }
   ],
   "source": [
    "kaggle_csv = glob.glob(download_path + \"/*.csv\")[0]\n",
    "kaggle_csv"
   ]
  },
  {
   "cell_type": "code",
   "execution_count": 5,
   "id": "d309c19c-debf-43cd-b522-e8dfaf40a4d6",
   "metadata": {},
   "outputs": [
    {
     "data": {
      "text/plain": [
       "(210779, 10)"
      ]
     },
     "execution_count": 5,
     "metadata": {},
     "output_type": "execute_result"
    }
   ],
   "source": [
    "df_kaggle = pd.read_csv(kaggle_csv)\n",
    "df_kaggle.shape"
   ]
  },
  {
   "cell_type": "code",
   "execution_count": 8,
   "id": "4bd34fea-cbe1-47c6-8ea0-4c0d7a9b449a",
   "metadata": {},
   "outputs": [
    {
     "data": {
      "text/html": [
       "<div>\n",
       "<style scoped>\n",
       "    .dataframe tbody tr th:only-of-type {\n",
       "        vertical-align: middle;\n",
       "    }\n",
       "\n",
       "    .dataframe tbody tr th {\n",
       "        vertical-align: top;\n",
       "    }\n",
       "\n",
       "    .dataframe thead th {\n",
       "        text-align: right;\n",
       "    }\n",
       "</style>\n",
       "<table border=\"1\" class=\"dataframe\">\n",
       "  <thead>\n",
       "    <tr style=\"text-align: right;\">\n",
       "      <th></th>\n",
       "      <th>id</th>\n",
       "      <th>url</th>\n",
       "      <th>title</th>\n",
       "      <th>text</th>\n",
       "      <th>score</th>\n",
       "      <th>created_utc</th>\n",
       "      <th>subreddit</th>\n",
       "      <th>num_comments</th>\n",
       "      <th>upvote_ratio</th>\n",
       "      <th>over_18</th>\n",
       "    </tr>\n",
       "  </thead>\n",
       "  <tbody>\n",
       "    <tr>\n",
       "      <th>158269</th>\n",
       "      <td>1gztdl5</td>\n",
       "      <td>https://www.reddit.com/r/villainscode/comments...</td>\n",
       "      <td>Coffee</td>\n",
       "      <td>Hello all,\\n\\nIn my most recent re-listen, I f...</td>\n",
       "      <td>4</td>\n",
       "      <td>1.732568e+09</td>\n",
       "      <td>villainscode</td>\n",
       "      <td>0</td>\n",
       "      <td>1.0</td>\n",
       "      <td>False</td>\n",
       "    </tr>\n",
       "    <tr>\n",
       "      <th>120962</th>\n",
       "      <td>1ia14qd</td>\n",
       "      <td>https://www.reddit.com/r/woodworking/comments/...</td>\n",
       "      <td>Hand rubbed poly with General Finishes</td>\n",
       "      <td>Has anyone had good luck applying General Fini...</td>\n",
       "      <td>1</td>\n",
       "      <td>1.737851e+09</td>\n",
       "      <td>woodworking</td>\n",
       "      <td>0</td>\n",
       "      <td>1.0</td>\n",
       "      <td>False</td>\n",
       "    </tr>\n",
       "    <tr>\n",
       "      <th>67344</th>\n",
       "      <td>1gtfhyd</td>\n",
       "      <td>https://www.reddit.com/gallery/1gtfhyd</td>\n",
       "      <td>Monkeypod acacia cutoffs</td>\n",
       "      <td>Ok…I know some don’t have this issue since the...</td>\n",
       "      <td>4</td>\n",
       "      <td>1.731856e+09</td>\n",
       "      <td>woodworking</td>\n",
       "      <td>0</td>\n",
       "      <td>1.0</td>\n",
       "      <td>False</td>\n",
       "    </tr>\n",
       "  </tbody>\n",
       "</table>\n",
       "</div>"
      ],
      "text/plain": [
       "             id                                                url  \\\n",
       "158269  1gztdl5  https://www.reddit.com/r/villainscode/comments...   \n",
       "120962  1ia14qd  https://www.reddit.com/r/woodworking/comments/...   \n",
       "67344   1gtfhyd             https://www.reddit.com/gallery/1gtfhyd   \n",
       "\n",
       "                                         title  \\\n",
       "158269                                  Coffee   \n",
       "120962  Hand rubbed poly with General Finishes   \n",
       "67344                Monkeypod acacia cutoffs    \n",
       "\n",
       "                                                     text  score  \\\n",
       "158269  Hello all,\\n\\nIn my most recent re-listen, I f...      4   \n",
       "120962  Has anyone had good luck applying General Fini...      1   \n",
       "67344   Ok…I know some don’t have this issue since the...      4   \n",
       "\n",
       "         created_utc     subreddit  num_comments  upvote_ratio  over_18  \n",
       "158269  1.732568e+09  villainscode             0           1.0    False  \n",
       "120962  1.737851e+09   woodworking             0           1.0    False  \n",
       "67344   1.731856e+09   woodworking             0           1.0    False  "
      ]
     },
     "execution_count": 8,
     "metadata": {},
     "output_type": "execute_result"
    }
   ],
   "source": [
    "df_kaggle.sample(3)"
   ]
  },
  {
   "cell_type": "markdown",
   "id": "07189135-9bc7-4294-9d15-05cdc9ef8744",
   "metadata": {},
   "source": [
    "## 3. Pre-processing"
   ]
  },
  {
   "cell_type": "code",
   "execution_count": 10,
   "id": "6d237a5e-b246-4961-94f6-716656a67d8a",
   "metadata": {},
   "outputs": [],
   "source": [
    "def preprocess(df):\n",
    "    print(\"Before pre-processing shape: \", df.shape)\n",
    "    # drop duplicate ids\n",
    "    df = df.drop_duplicates(subset=['id'])\n",
    "    \n",
    "    # remove oct 2nd data\n",
    "    df['created_utc'] = pd.to_datetime(df['created_utc'], unit='s')\n",
    "    df = df[df.created_utc >= \"2024-10-03\"]\n",
    "    \n",
    "    # remove empty string texts\n",
    "    df = df[df.text != \"\"]\n",
    "    \n",
    "    # remove duplicate texts\n",
    "    df = df[~df.text.duplicated()]\n",
    "    \n",
    "    # remove nans from text\n",
    "    df = df.dropna(subset=['text'])\n",
    "    \n",
    "    # remove user profile posts\n",
    "    df = df[~df.subreddit.str.startswith('u_')]\n",
    "    \n",
    "    print(\"Post pre-processing shape: \", df.shape)\n",
    "    \n",
    "    return df"
   ]
  },
  {
   "cell_type": "code",
   "execution_count": 11,
   "id": "b93c5444-8513-4a8f-999b-394e01cffd4e",
   "metadata": {},
   "outputs": [
    {
     "name": "stdout",
     "output_type": "stream",
     "text": [
      "Before pre-processing shape:  (210779, 10)\n"
     ]
    },
    {
     "name": "stderr",
     "output_type": "stream",
     "text": [
      "/var/folders/6p/b8fsbws114377d5kxxk54hdm0000gn/T/ipykernel_70765/2194685524.py:7: SettingWithCopyWarning: \n",
      "A value is trying to be set on a copy of a slice from a DataFrame.\n",
      "Try using .loc[row_indexer,col_indexer] = value instead\n",
      "\n",
      "See the caveats in the documentation: https://pandas.pydata.org/pandas-docs/stable/user_guide/indexing.html#returning-a-view-versus-a-copy\n",
      "  df['created_utc'] = pd.to_datetime(df['created_utc'], unit='s')\n"
     ]
    },
    {
     "name": "stdout",
     "output_type": "stream",
     "text": [
      "Post pre-processing shape:  (153923, 10)\n"
     ]
    }
   ],
   "source": [
    "df = preprocess(df_kaggle)"
   ]
  },
  {
   "cell_type": "code",
   "execution_count": 12,
   "id": "73699a38-fc29-4edd-ad35-8e25ad1a4cd2",
   "metadata": {},
   "outputs": [
    {
     "data": {
      "text/plain": [
       "(153923, 10)"
      ]
     },
     "execution_count": 12,
     "metadata": {},
     "output_type": "execute_result"
    }
   ],
   "source": [
    "df.shape"
   ]
  },
  {
   "cell_type": "code",
   "execution_count": null,
   "id": "839e04b0-ec72-4efb-892f-08f1e6308a1e",
   "metadata": {},
   "outputs": [],
   "source": []
  },
  {
   "cell_type": "code",
   "execution_count": null,
   "id": "aed7b9b0-c108-4ff2-bfe1-9a9c054159c4",
   "metadata": {},
   "outputs": [],
   "source": []
  },
  {
   "cell_type": "code",
   "execution_count": null,
   "id": "f26f3146-927a-441d-8c9b-6e0e7afaf81c",
   "metadata": {},
   "outputs": [],
   "source": []
  },
  {
   "cell_type": "code",
   "execution_count": null,
   "id": "6dc588d1-10d2-47f5-905b-11bbb399bb37",
   "metadata": {},
   "outputs": [],
   "source": []
  },
  {
   "cell_type": "code",
   "execution_count": null,
   "id": "ee4a2020-748d-4bd7-8f1c-633eb3507c1b",
   "metadata": {},
   "outputs": [],
   "source": []
  },
  {
   "cell_type": "code",
   "execution_count": null,
   "id": "ff643905-7a7d-4fc1-bb60-3c50aca8b406",
   "metadata": {},
   "outputs": [],
   "source": []
  }
 ],
 "metadata": {
  "kernelspec": {
   "display_name": "Coffee Dashboard Kernel",
   "language": "python",
   "name": "coffee_dash"
  },
  "language_info": {
   "codemirror_mode": {
    "name": "ipython",
    "version": 3
   },
   "file_extension": ".py",
   "mimetype": "text/x-python",
   "name": "python",
   "nbconvert_exporter": "python",
   "pygments_lexer": "ipython3",
   "version": "3.12.7"
  }
 },
 "nbformat": 4,
 "nbformat_minor": 5
}
