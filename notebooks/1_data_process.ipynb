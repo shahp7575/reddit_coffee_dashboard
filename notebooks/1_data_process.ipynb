{
 "cells": [
  {
   "cell_type": "markdown",
   "id": "667091fc-3932-430f-8472-a745c34107f7",
   "metadata": {},
   "source": [
    "## 1. Setup"
   ]
  },
  {
   "cell_type": "code",
   "execution_count": 1,
   "id": "68c27fbc-c231-4359-8174-02bd07904be6",
   "metadata": {},
   "outputs": [
    {
     "name": "stdout",
     "output_type": "stream",
     "text": [
      "Warning: Your Kaggle API key is readable by other users on this system! To fix this, you can run 'chmod 600 /Users/parthshah/.kaggle/kaggle.json'\n"
     ]
    }
   ],
   "source": [
    "import os\n",
    "import glob\n",
    "import pandas as pd\n",
    "import kaggle"
   ]
  },
  {
   "cell_type": "markdown",
   "id": "0b1bc9c5-1bf7-4c93-9459-16923e13a0e9",
   "metadata": {},
   "source": [
    "## 2. Dataset"
   ]
  },
  {
   "cell_type": "code",
   "execution_count": 2,
   "id": "03c4627a-c364-4dac-bc9f-52fc64985e9b",
   "metadata": {},
   "outputs": [
    {
     "name": "stdout",
     "output_type": "stream",
     "text": [
      "Warning: Your Kaggle API key is readable by other users on this system! To fix this, you can run 'chmod 600 /Users/parthshah/.kaggle/kaggle.json'\n",
      "Dataset URL: https://www.kaggle.com/datasets/shahp7575/reddit-posts-with-keyword-coffee/versions/\n",
      "License(s): MIT\n",
      "Downloading reddit-posts-with-keyword-coffee.zip to ../data/kaggle_dataset\n"
     ]
    },
    {
     "name": "stderr",
     "output_type": "stream",
     "text": [
      "100%|██████████| 150M/150M [00:04<00:00, 38.0MB/s] \n"
     ]
    },
    {
     "name": "stdout",
     "output_type": "stream",
     "text": [
      "\n"
     ]
    },
    {
     "data": {
      "text/plain": [
       "0"
      ]
     },
     "execution_count": 2,
     "metadata": {},
     "output_type": "execute_result"
    }
   ],
   "source": [
    "download_path = \"../data/kaggle_dataset\"\n",
    "dataset_slug = \"shahp7575/reddit-posts-with-keyword-coffee/\"\n",
    "os.system(f'kaggle datasets download -d {dataset_slug} -p {download_path} --unzip')"
   ]
  },
  {
   "cell_type": "code",
   "execution_count": 3,
   "id": "1ddeca9b-0cda-49ec-8f3b-c20db91d379f",
   "metadata": {},
   "outputs": [
    {
     "data": {
      "text/plain": [
       "'../data/kaggle_dataset/reddit_coffee_scraper_till_1739679079.csv'"
      ]
     },
     "execution_count": 3,
     "metadata": {},
     "output_type": "execute_result"
    }
   ],
   "source": [
    "kaggle_csv = glob.glob(download_path + \"/*.csv\")[0]\n",
    "kaggle_csv"
   ]
  },
  {
   "cell_type": "code",
   "execution_count": 4,
   "id": "d309c19c-debf-43cd-b522-e8dfaf40a4d6",
   "metadata": {},
   "outputs": [
    {
     "data": {
      "text/plain": [
       "(239265, 10)"
      ]
     },
     "execution_count": 4,
     "metadata": {},
     "output_type": "execute_result"
    }
   ],
   "source": [
    "df_kaggle = pd.read_csv(kaggle_csv)\n",
    "df_kaggle.shape"
   ]
  },
  {
   "cell_type": "code",
   "execution_count": 5,
   "id": "4bd34fea-cbe1-47c6-8ea0-4c0d7a9b449a",
   "metadata": {},
   "outputs": [
    {
     "data": {
      "text/html": [
       "<div>\n",
       "<style scoped>\n",
       "    .dataframe tbody tr th:only-of-type {\n",
       "        vertical-align: middle;\n",
       "    }\n",
       "\n",
       "    .dataframe tbody tr th {\n",
       "        vertical-align: top;\n",
       "    }\n",
       "\n",
       "    .dataframe thead th {\n",
       "        text-align: right;\n",
       "    }\n",
       "</style>\n",
       "<table border=\"1\" class=\"dataframe\">\n",
       "  <thead>\n",
       "    <tr style=\"text-align: right;\">\n",
       "      <th></th>\n",
       "      <th>id</th>\n",
       "      <th>url</th>\n",
       "      <th>title</th>\n",
       "      <th>text</th>\n",
       "      <th>score</th>\n",
       "      <th>created_utc</th>\n",
       "      <th>subreddit</th>\n",
       "      <th>num_comments</th>\n",
       "      <th>upvote_ratio</th>\n",
       "      <th>over_18</th>\n",
       "    </tr>\n",
       "  </thead>\n",
       "  <tbody>\n",
       "    <tr>\n",
       "      <th>56606</th>\n",
       "      <td>1gg9vcq</td>\n",
       "      <td>https://i.redd.it/t2xlam6a12yd1.jpeg</td>\n",
       "      <td>Just want to get my morning coffee</td>\n",
       "      <td>NaN</td>\n",
       "      <td>8</td>\n",
       "      <td>1.730364e+09</td>\n",
       "      <td>OneOrangeBraincell</td>\n",
       "      <td>0</td>\n",
       "      <td>1.00</td>\n",
       "      <td>False</td>\n",
       "    </tr>\n",
       "    <tr>\n",
       "      <th>153489</th>\n",
       "      <td>1hqvybc</td>\n",
       "      <td>https://www.reddit.com/r/Market76/comments/1hq...</td>\n",
       "      <td>[PS4] H: Conductors x3, Scanners, Vipers, Prop...</td>\n",
       "      <td>NaN</td>\n",
       "      <td>0</td>\n",
       "      <td>1.735707e+09</td>\n",
       "      <td>Market76</td>\n",
       "      <td>1</td>\n",
       "      <td>0.50</td>\n",
       "      <td>False</td>\n",
       "    </tr>\n",
       "    <tr>\n",
       "      <th>196238</th>\n",
       "      <td>1hkb9pp</td>\n",
       "      <td>https://www.reddit.com/r/ausjdocs/comments/1hk...</td>\n",
       "      <td>Prince Charming Haematologist Trainee</td>\n",
       "      <td>Hi everyone!\\n\\nI have a story time. I'm a non...</td>\n",
       "      <td>15</td>\n",
       "      <td>1.734912e+09</td>\n",
       "      <td>ausjdocs</td>\n",
       "      <td>3</td>\n",
       "      <td>0.89</td>\n",
       "      <td>False</td>\n",
       "    </tr>\n",
       "  </tbody>\n",
       "</table>\n",
       "</div>"
      ],
      "text/plain": [
       "             id                                                url  \\\n",
       "56606   1gg9vcq               https://i.redd.it/t2xlam6a12yd1.jpeg   \n",
       "153489  1hqvybc  https://www.reddit.com/r/Market76/comments/1hq...   \n",
       "196238  1hkb9pp  https://www.reddit.com/r/ausjdocs/comments/1hk...   \n",
       "\n",
       "                                                    title  \\\n",
       "56606                 Just want to get my morning coffee    \n",
       "153489  [PS4] H: Conductors x3, Scanners, Vipers, Prop...   \n",
       "196238              Prince Charming Haematologist Trainee   \n",
       "\n",
       "                                                     text  score  \\\n",
       "56606                                                 NaN      8   \n",
       "153489                                                NaN      0   \n",
       "196238  Hi everyone!\\n\\nI have a story time. I'm a non...     15   \n",
       "\n",
       "         created_utc           subreddit  num_comments  upvote_ratio  over_18  \n",
       "56606   1.730364e+09  OneOrangeBraincell             0          1.00    False  \n",
       "153489  1.735707e+09            Market76             1          0.50    False  \n",
       "196238  1.734912e+09            ausjdocs             3          0.89    False  "
      ]
     },
     "execution_count": 5,
     "metadata": {},
     "output_type": "execute_result"
    }
   ],
   "source": [
    "df_kaggle.sample(3)"
   ]
  },
  {
   "cell_type": "code",
   "execution_count": 6,
   "id": "23c79563-eaf0-465b-b33f-60147036449d",
   "metadata": {},
   "outputs": [
    {
     "data": {
      "text/plain": [
       "Index(['id', 'url', 'title', 'text', 'score', 'created_utc', 'subreddit',\n",
       "       'num_comments', 'upvote_ratio', 'over_18'],\n",
       "      dtype='object')"
      ]
     },
     "execution_count": 6,
     "metadata": {},
     "output_type": "execute_result"
    }
   ],
   "source": [
    "df_kaggle.columns"
   ]
  },
  {
   "cell_type": "markdown",
   "id": "07189135-9bc7-4294-9d15-05cdc9ef8744",
   "metadata": {},
   "source": [
    "## 3. Pre-processing"
   ]
  },
  {
   "cell_type": "code",
   "execution_count": 11,
   "id": "6d237a5e-b246-4961-94f6-716656a67d8a",
   "metadata": {},
   "outputs": [],
   "source": [
    "def preprocess(df):\n",
    "    print(\"Before pre-processing shape: \", df.shape)\n",
    "    # drop duplicate ids\n",
    "    df = df.drop_duplicates(subset=['id'])\n",
    "    \n",
    "    # remove oct 2nd data\n",
    "    df['created_utc'] = pd.to_datetime(df['created_utc'], unit='s')\n",
    "    df = df[df.created_utc >= \"2024-10-03\"]\n",
    "    \n",
    "    # remove empty string texts\n",
    "    df = df[df.text != \"\"]\n",
    "    \n",
    "    # remove duplicate texts\n",
    "    df = df[~df.text.duplicated()]\n",
    "    \n",
    "    # remove nans from text\n",
    "    df = df.dropna(subset=['text'])\n",
    "    \n",
    "    # remove user profile posts\n",
    "    df = df[~df.subreddit.str.startswith('u_')]\n",
    "\n",
    "    # reset index\n",
    "    df.reset_index(inplace=True)\n",
    "    \n",
    "    print(\"Post pre-processing shape: \", df.shape)\n",
    "    \n",
    "    return df"
   ]
  },
  {
   "cell_type": "code",
   "execution_count": 12,
   "id": "b93c5444-8513-4a8f-999b-394e01cffd4e",
   "metadata": {},
   "outputs": [
    {
     "name": "stdout",
     "output_type": "stream",
     "text": [
      "Before pre-processing shape:  (239265, 10)\n"
     ]
    },
    {
     "name": "stderr",
     "output_type": "stream",
     "text": [
      "/var/folders/6p/b8fsbws114377d5kxxk54hdm0000gn/T/ipykernel_98181/4123870985.py:7: SettingWithCopyWarning: \n",
      "A value is trying to be set on a copy of a slice from a DataFrame.\n",
      "Try using .loc[row_indexer,col_indexer] = value instead\n",
      "\n",
      "See the caveats in the documentation: https://pandas.pydata.org/pandas-docs/stable/user_guide/indexing.html#returning-a-view-versus-a-copy\n",
      "  df['created_utc'] = pd.to_datetime(df['created_utc'], unit='s')\n"
     ]
    },
    {
     "name": "stdout",
     "output_type": "stream",
     "text": [
      "Post pre-processing shape:  (170161, 11)\n"
     ]
    }
   ],
   "source": [
    "df = preprocess(df_kaggle)"
   ]
  },
  {
   "cell_type": "code",
   "execution_count": 13,
   "id": "73699a38-fc29-4edd-ad35-8e25ad1a4cd2",
   "metadata": {},
   "outputs": [
    {
     "data": {
      "text/plain": [
       "(170161, 11)"
      ]
     },
     "execution_count": 13,
     "metadata": {},
     "output_type": "execute_result"
    }
   ],
   "source": [
    "df.shape"
   ]
  },
  {
   "cell_type": "code",
   "execution_count": 15,
   "id": "4ad85001-e0c1-41f1-b6aa-63763289f962",
   "metadata": {},
   "outputs": [
    {
     "data": {
      "text/html": [
       "<div>\n",
       "<style scoped>\n",
       "    .dataframe tbody tr th:only-of-type {\n",
       "        vertical-align: middle;\n",
       "    }\n",
       "\n",
       "    .dataframe tbody tr th {\n",
       "        vertical-align: top;\n",
       "    }\n",
       "\n",
       "    .dataframe thead th {\n",
       "        text-align: right;\n",
       "    }\n",
       "</style>\n",
       "<table border=\"1\" class=\"dataframe\">\n",
       "  <thead>\n",
       "    <tr style=\"text-align: right;\">\n",
       "      <th></th>\n",
       "      <th>index</th>\n",
       "      <th>id</th>\n",
       "      <th>url</th>\n",
       "      <th>title</th>\n",
       "      <th>text</th>\n",
       "      <th>score</th>\n",
       "      <th>created_utc</th>\n",
       "      <th>subreddit</th>\n",
       "      <th>num_comments</th>\n",
       "      <th>upvote_ratio</th>\n",
       "      <th>over_18</th>\n",
       "    </tr>\n",
       "  </thead>\n",
       "  <tbody>\n",
       "    <tr>\n",
       "      <th>114453</th>\n",
       "      <td>154877</td>\n",
       "      <td>1ic9z0c</td>\n",
       "      <td>https://www.reddit.com/r/fasting/comments/1ic9...</td>\n",
       "      <td>Completed my first 24 hour fast</td>\n",
       "      <td>Just wanted to tell you guys that I'm 24 hours...</td>\n",
       "      <td>5</td>\n",
       "      <td>2025-01-28 19:30:31</td>\n",
       "      <td>fasting</td>\n",
       "      <td>1</td>\n",
       "      <td>1.00</td>\n",
       "      <td>False</td>\n",
       "    </tr>\n",
       "    <tr>\n",
       "      <th>110433</th>\n",
       "      <td>149401</td>\n",
       "      <td>1h4con2</td>\n",
       "      <td>https://www.reddit.com/r/offmychest/comments/1...</td>\n",
       "      <td>Partner didn't pick me up from the airport a w...</td>\n",
       "      <td>(M37) had said they'd pick me (29f) from the l...</td>\n",
       "      <td>1</td>\n",
       "      <td>2024-12-01 20:29:40</td>\n",
       "      <td>offmychest</td>\n",
       "      <td>5</td>\n",
       "      <td>0.99</td>\n",
       "      <td>False</td>\n",
       "    </tr>\n",
       "    <tr>\n",
       "      <th>56288</th>\n",
       "      <td>76423</td>\n",
       "      <td>1i9h5x5</td>\n",
       "      <td>https://www.reddit.com/r/SeveranceAppleTVPlus/...</td>\n",
       "      <td>Pineapples!</td>\n",
       "      <td>Haven’t seen this posted anywhere so forgive m...</td>\n",
       "      <td>3</td>\n",
       "      <td>2025-01-25 06:42:40</td>\n",
       "      <td>SeveranceAppleTVPlus</td>\n",
       "      <td>1</td>\n",
       "      <td>1.00</td>\n",
       "      <td>False</td>\n",
       "    </tr>\n",
       "  </tbody>\n",
       "</table>\n",
       "</div>"
      ],
      "text/plain": [
       "         index       id                                                url  \\\n",
       "114453  154877  1ic9z0c  https://www.reddit.com/r/fasting/comments/1ic9...   \n",
       "110433  149401  1h4con2  https://www.reddit.com/r/offmychest/comments/1...   \n",
       "56288    76423  1i9h5x5  https://www.reddit.com/r/SeveranceAppleTVPlus/...   \n",
       "\n",
       "                                                    title  \\\n",
       "114453                    Completed my first 24 hour fast   \n",
       "110433  Partner didn't pick me up from the airport a w...   \n",
       "56288                                         Pineapples!   \n",
       "\n",
       "                                                     text  score  \\\n",
       "114453  Just wanted to tell you guys that I'm 24 hours...      5   \n",
       "110433  (M37) had said they'd pick me (29f) from the l...      1   \n",
       "56288   Haven’t seen this posted anywhere so forgive m...      3   \n",
       "\n",
       "               created_utc             subreddit  num_comments  upvote_ratio  \\\n",
       "114453 2025-01-28 19:30:31               fasting             1          1.00   \n",
       "110433 2024-12-01 20:29:40            offmychest             5          0.99   \n",
       "56288  2025-01-25 06:42:40  SeveranceAppleTVPlus             1          1.00   \n",
       "\n",
       "        over_18  \n",
       "114453    False  \n",
       "110433    False  \n",
       "56288     False  "
      ]
     },
     "execution_count": 15,
     "metadata": {},
     "output_type": "execute_result"
    }
   ],
   "source": [
    "df.sample(3)"
   ]
  },
  {
   "cell_type": "code",
   "execution_count": null,
   "id": "37b56acf-48e3-48b1-a00a-91387809e973",
   "metadata": {},
   "outputs": [],
   "source": []
  },
  {
   "cell_type": "code",
   "execution_count": null,
   "id": "5a9bd321-c2c6-4f79-b41b-547974e86141",
   "metadata": {},
   "outputs": [],
   "source": []
  },
  {
   "cell_type": "code",
   "execution_count": null,
   "id": "839e04b0-ec72-4efb-892f-08f1e6308a1e",
   "metadata": {},
   "outputs": [],
   "source": []
  },
  {
   "cell_type": "code",
   "execution_count": null,
   "id": "aed7b9b0-c108-4ff2-bfe1-9a9c054159c4",
   "metadata": {},
   "outputs": [],
   "source": []
  },
  {
   "cell_type": "code",
   "execution_count": null,
   "id": "f26f3146-927a-441d-8c9b-6e0e7afaf81c",
   "metadata": {},
   "outputs": [],
   "source": []
  },
  {
   "cell_type": "code",
   "execution_count": null,
   "id": "6dc588d1-10d2-47f5-905b-11bbb399bb37",
   "metadata": {},
   "outputs": [],
   "source": []
  },
  {
   "cell_type": "code",
   "execution_count": null,
   "id": "ee4a2020-748d-4bd7-8f1c-633eb3507c1b",
   "metadata": {},
   "outputs": [],
   "source": []
  },
  {
   "cell_type": "code",
   "execution_count": null,
   "id": "ff643905-7a7d-4fc1-bb60-3c50aca8b406",
   "metadata": {},
   "outputs": [],
   "source": []
  }
 ],
 "metadata": {
  "kernelspec": {
   "display_name": "Coffee Dashboard Kernel",
   "language": "python",
   "name": "coffee_dash"
  },
  "language_info": {
   "codemirror_mode": {
    "name": "ipython",
    "version": 3
   },
   "file_extension": ".py",
   "mimetype": "text/x-python",
   "name": "python",
   "nbconvert_exporter": "python",
   "pygments_lexer": "ipython3",
   "version": "3.12.7"
  }
 },
 "nbformat": 4,
 "nbformat_minor": 5
}
